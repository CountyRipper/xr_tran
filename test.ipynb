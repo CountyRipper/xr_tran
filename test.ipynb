{
 "cells": [
  {
   "cell_type": "code",
   "execution_count": null,
   "metadata": {
    "vscode": {
     "languageId": "shellscript"
    }
   },
   "outputs": [],
   "source": [
    "%%bash\n",
    "DATASET=\"wiki10-31k\"\n",
    "wget -ncq https://archive.org/download/xr-transformer-demos/${DATASET}-bert.tar.gz\n",
    "mkdir -p ./work_dir/xr-transformer-encoder\n",
    "tar -zxf ./${DATASET}-bert.tar.gz -C ./work_dir/xr-transformer-encoder\n",
    "find ./work_dir/xr-transformer-encoder/*"
   ]
  },
  {
   "cell_type": "code",
   "execution_count": 2,
   "metadata": {},
   "outputs": [],
   "source": [
    "import logging\n",
    "import numpy as np\n",
    "from pecos.utils import smat_util, logging_util\n",
    "DATASET=\"wiki10-31k\"\n",
    "# set logging level to WARNING(1)\n",
    "# you can change this to INFO(2) or DEBUG(3) if you'd like to see more logging\n",
    "LOGGER = logging.getLogger(__name__)\n",
    "logging_util.setup_logging_config(level=1)\n",
    "\n",
    "# load training data\n",
    "X_feat_trn = smat_util.load_matrix(f\"xmc-base/{DATASET}/tfidf-attnxml/X.trn.npz\", dtype=np.float32)\n",
    "Y_trn = smat_util.load_matrix(f\"xmc-base/{DATASET}/Y.trn.npz\", dtype=np.float32)\n",
    "\n",
    "with open(f\"xmc-base/{DATASET}/X.trn.txt\", 'r') as fin:\n",
    "    X_txt_trn = [xx.strip() for xx in fin.readlines()]\n",
    "\n",
    "# load test data\n",
    "X_feat_tst = smat_util.load_matrix(f\"xmc-base/{DATASET}/tfidf-attnxml/X.tst.npz\", dtype=np.float32)\n",
    "Y_tst = smat_util.load_matrix(f\"xmc-base/{DATASET}/Y.tst.npz\", dtype=np.float32)\n",
    "\n",
    "with open(f\"xmc-base/{DATASET}/X.tst.txt\", 'r') as fin:\n",
    "    X_txt_tst = [xx.strip() for xx in fin.readlines()]"
   ]
  },
  {
   "cell_type": "code",
   "execution_count": null,
   "metadata": {},
   "outputs": [
    {
     "name": "stderr",
     "output_type": "stream",
     "text": [
      "/opt/conda/envs/dxt/lib/python3.8/site-packages/tqdm/auto.py:21: TqdmWarning: IProgress not found. Please update jupyter and ipywidgets. See https://ipywidgets.readthedocs.io/en/stable/user_install.html\n",
      "  from .autonotebook import tqdm as notebook_tqdm\n"
     ]
    }
   ],
   "source": [
    "import json\n",
    "from model import XTransformer\n",
    "import requests\n",
    "# get XR-Transformer training params\n",
    "#param_url = \"https://raw.githubusercontent.com/amzn/pecos/mainline/examples/xr-transformer-neurips21/params/wiki10-31k/bert/params.json\"\n",
    "file_path = f'./params/{DATASET}/bert/params.json'\n",
    "with open(file_path, \"r\", encoding=\"utf-8\") as f:\n",
    "    params = json.load(f)\n",
    "# param_url = \"https://raw.githubusercontent.com/amzn/pecos/mainline/examples/xr-transformer-neurips21/params/wiki10-31k/bert/params.json\"\n",
    "# params = json.loads(requests.get(param_url).text)    \n",
    "cur_train_params = XTransformer.TrainParams.from_dict(params[\"train_params\"])\n",
    "cur_pred_params = XTransformer.PredParams.from_dict(params[\"pred_params\"])\n",
    "\n",
    "# you can view the detailed parameter setting via\n",
    "# print(json.dumps(cur_train_params.to_dict(), indent=True))\n",
    "# print(json.dumps(cur_pred_params.to_dict(), indent=True))"
   ]
  },
  {
   "cell_type": "code",
   "execution_count": null,
   "metadata": {},
   "outputs": [
    {
     "name": "stdout",
     "output_type": "stream",
     "text": [
      "XTransformer.TrainParams(preliminary_indexer_params=HierarchicalKMeans.TrainParams(nr_splits=16, min_codes=128, max_leaf_size=16, spherical=True, seed=10001, kmeans_max_iter=20, threads=-1, do_sample=False, max_sample_rate=1.0, min_sample_rate=0.1, warmup_ratio=0.4), refined_indexer_params=HierarchicalKMeans.TrainParams(nr_splits=16, min_codes=None, max_leaf_size=16, spherical=True, seed=10001, kmeans_max_iter=20, threads=-1, do_sample=False, max_sample_rate=1.0, min_sample_rate=0.1, warmup_ratio=0.4), matcher_params_chain=[TransformerMatcher.TrainParams(model_shortcut='bert-base-uncased', negative_sampling='tfn+man', loss_function='weighted-squared-hinge', bootstrap_method='weighted-linear', lr_schedule='linear', threshold=0.001, hidden_dropout_prob=0.1, batch_size=32, batch_gen_workers=16, max_active_matching_labels=1000, max_num_labels_in_gpu=65536, max_steps=1000, max_no_improve_cnt=-1, num_train_epochs=10, gradient_accumulation_steps=1, weight_decay=0.0, max_grad_norm=1.0, learning_rate=5e-05, adam_epsilon=1e-08, warmup_steps=100, logging_steps=50, save_steps=200, cost_sensitive_ranker=True, pre_tokenize=True, pre_tensorize_labels=True, use_gpu=True, eval_by_true_shorlist=False, checkpoint_dir='', cache_dir='', init_model_dir=''), TransformerMatcher.TrainParams(model_shortcut='bert-base-uncased', negative_sampling='tfn+man', loss_function='weighted-squared-hinge', bootstrap_method='weighted-linear', lr_schedule='linear', threshold=0.001, hidden_dropout_prob=0.1, batch_size=32, batch_gen_workers=16, max_active_matching_labels=1000, max_num_labels_in_gpu=65536, max_steps=1000, max_no_improve_cnt=-1, num_train_epochs=10, gradient_accumulation_steps=1, weight_decay=0.0, max_grad_norm=1.0, learning_rate=5e-05, adam_epsilon=1e-08, warmup_steps=100, logging_steps=50, save_steps=200, cost_sensitive_ranker=True, pre_tokenize=True, pre_tensorize_labels=True, use_gpu=True, eval_by_true_shorlist=False, checkpoint_dir='', cache_dir='', init_model_dir=''), TransformerMatcher.TrainParams(model_shortcut='bert-base-uncased', negative_sampling='tfn+man', loss_function='weighted-squared-hinge', bootstrap_method='weighted-linear', lr_schedule='linear', threshold=0.001, hidden_dropout_prob=0.1, batch_size=32, batch_gen_workers=16, max_active_matching_labels=1000, max_num_labels_in_gpu=65536, max_steps=400, max_no_improve_cnt=-1, num_train_epochs=10, gradient_accumulation_steps=1, weight_decay=0.0, max_grad_norm=1.0, learning_rate=5e-05, adam_epsilon=1e-08, warmup_steps=100, logging_steps=50, save_steps=200, cost_sensitive_ranker=True, pre_tokenize=True, pre_tensorize_labels=True, use_gpu=True, eval_by_true_shorlist=False, checkpoint_dir='', cache_dir='', init_model_dir='')], ranker_params=XLinearModel.TrainParams(mode='full-model', ranker_level=1, nr_splits=16, min_codes=None, shallow=False, rel_mode='induce', rel_norm='l1', hlm_args=HierarchicalMLModel.TrainParams(neg_mining_chain=['tfn', 'tfn', 'tfn', 'tfn+man'], model_chain=[MLModel.TrainParams(threshold=0.001, max_nonzeros_per_label=None, solver_type='L2R_L2LOSS_SVC_DUAL', Cp=4.0, Cn=1.0, max_iter=100, eps=0.1, bias=1.0, threads=-1, verbose=0, newton_eps=0.01), MLModel.TrainParams(threshold=0.001, max_nonzeros_per_label=None, solver_type='L2R_L2LOSS_SVC_DUAL', Cp=4.0, Cn=1.0, max_iter=100, eps=0.1, bias=1.0, threads=-1, verbose=0, newton_eps=0.01), MLModel.TrainParams(threshold=0.001, max_nonzeros_per_label=None, solver_type='L2R_L2LOSS_SVC_DUAL', Cp=4.0, Cn=1.0, max_iter=100, eps=0.1, bias=1.0, threads=-1, verbose=0, newton_eps=0.01), MLModel.TrainParams(threshold=0.001, max_nonzeros_per_label=None, solver_type='L2R_L2LOSS_SVC_DUAL', Cp=4.0, Cn=1.0, max_iter=100, eps=0.1, bias=1.0, threads=-1, verbose=0, newton_eps=0.01)])), do_fine_tune=True, only_encoder=False, fix_clustering=False, max_match_clusters=32768)\n"
     ]
    }
   ],
   "source": [
    "print(cur_train_params)"
   ]
  },
  {
   "cell_type": "markdown",
   "metadata": {},
   "source": [
    "## Baseline XR-linear"
   ]
  },
  {
   "cell_type": "code",
   "execution_count": null,
   "metadata": {},
   "outputs": [
    {
     "name": "stdout",
     "output_type": "stream",
     "text": [
      "[<8x1 sparse matrix of type '<class 'numpy.float32'>'\n",
      "\twith 8 stored elements in Compressed Sparse Column format>, <128x8 sparse matrix of type '<class 'numpy.float32'>'\n",
      "\twith 128 stored elements in Compressed Sparse Column format>, <2048x128 sparse matrix of type '<class 'numpy.float32'>'\n",
      "\twith 2048 stored elements in Compressed Sparse Column format>, <30938x2048 sparse matrix of type '<class 'numpy.float32'>'\n",
      "\twith 30938 stored elements in Compressed Sparse Column format>]\n"
     ]
    }
   ],
   "source": [
    "from pecos.xmc import Indexer, LabelEmbeddingFactory\n",
    "cluster_chain = Indexer.gen(\n",
    "    LabelEmbeddingFactory.create(Y_trn, X_feat_trn, method=\"pifa\"),\n",
    "    train_params=cur_train_params.refined_indexer_params,\n",
    ")\n",
    "\n",
    "print(cluster_chain.chain)"
   ]
  },
  {
   "cell_type": "code",
   "execution_count": null,
   "metadata": {},
   "outputs": [],
   "source": [
    "# construct label hierarchy\n",
    "from pecos.xmc import Indexer, LabelEmbeddingFactory\n",
    "cluster_chain = Indexer.gen(\n",
    "    LabelEmbeddingFactory.create(Y_trn, X_feat_trn, method=\"pifa\"),\n",
    "    train_params=cur_train_params.refined_indexer_params,\n",
    ")\n",
    "\n",
    "# train XR-Linear model\n",
    "from pecos.xmc.xlinear import XLinearModel\n",
    "xlm = XLinearModel.train(\n",
    "    X_feat_trn,\n",
    "    Y_trn,\n",
    "    C=cluster_chain,\n",
    "    train_params=cur_train_params.ranker_params,\n",
    "    pred_params=cur_pred_params.ranker_params,\n",
    ")\n",
    "\n",
    "# predict on test set with XR-Linear model\n",
    "P_xlm = xlm.predict(X_feat_tst)\n",
    "\n",
    "# compute metrics using ground truth\n",
    "metrics = smat_util.Metrics.generate(Y_tst, P_xlm)\n",
    "print(\"Evaluation metrics of XR-Linear model\")\n",
    "print(metrics)"
   ]
  },
  {
   "cell_type": "markdown",
   "metadata": {},
   "source": [
    "## Without Fine-tune XR-transformer"
   ]
  },
  {
   "cell_type": "code",
   "execution_count": null,
   "metadata": {},
   "outputs": [],
   "source": [
    "# define the problem\n",
    "from module import MLProblemWithText\n",
    "prob = MLProblemWithText(X_txt_trn, Y_trn, X_feat=X_feat_trn)\n",
    "\n",
    "# disable fine-tuning, directly use pre-trained bert model from huggingface\n",
    "cur_train_params.do_fine_tune = False\n",
    "\n",
    "# train XR-Transformer (without fine-tuning)\n",
    "# this will be slow on CPU only machine\n",
    "xrt_pretrained = XTransformer.train(\n",
    "    prob,\n",
    "    train_params=cur_train_params,\n",
    "    pred_params=cur_pred_params,\n",
    ")\n",
    "\n",
    "# predict and compute metrics\n",
    "P_xrt_pretrained = xrt_pretrained.predict(X_txt_tst, X_feat=X_feat_tst)\n",
    "metrics = smat_util.Metrics.generate(Y_tst, P_xrt_pretrained)\n",
    "print(\"Evaluation metrics of XR-Transformer (not fine-tuned)\")\n",
    "print(metrics)"
   ]
  },
  {
   "cell_type": "markdown",
   "metadata": {},
   "source": [
    "train model xr-transformer"
   ]
  },
  {
   "cell_type": "code",
   "execution_count": 6,
   "metadata": {},
   "outputs": [
    {
     "name": "stdout",
     "output_type": "stream",
     "text": [
      "14146\n"
     ]
    }
   ],
   "source": [
    "print(Y_trn.shape[0])"
   ]
  },
  {
   "cell_type": "code",
   "execution_count": null,
   "metadata": {},
   "outputs": [
    {
     "name": "stdout",
     "output_type": "stream",
     "text": [
      "[<8x1 sparse matrix of type '<class 'numpy.float32'>'\n",
      "\twith 8 stored elements in Compressed Sparse Column format>, <128x8 sparse matrix of type '<class 'numpy.float32'>'\n",
      "\twith 128 stored elements in Compressed Sparse Column format>, <2048x128 sparse matrix of type '<class 'numpy.float32'>'\n",
      "\twith 2048 stored elements in Compressed Sparse Column format>, <30938x2048 sparse matrix of type '<class 'numpy.float32'>'\n",
      "\twith 30938 stored elements in Compressed Sparse Column format>]\n"
     ]
    },
    {
     "ename": "ValueError",
     "evalue": "len(params.matcher_params_chain)=3 != 4",
     "output_type": "error",
     "traceback": [
      "\u001b[0;31m---------------------------------------------------------------------------\u001b[0m",
      "\u001b[0;31mValueError\u001b[0m                                Traceback (most recent call last)",
      "Cell \u001b[0;32mIn[7], line 21\u001b[0m\n\u001b[1;32m     18\u001b[0m     wiki31k_train_params\u001b[38;5;241m.\u001b[39mmatcher_params_chain[\u001b[38;5;241m0\u001b[39m]\u001b[38;5;241m.\u001b[39minit_model_dir \u001b[38;5;241m=\u001b[39m \u001b[38;5;124m\"\u001b[39m\u001b[38;5;124m./work_dir/xr-transformer-encoder/wiki10-31k/bert/text_encoder\u001b[39m\u001b[38;5;124m\"\u001b[39m\n\u001b[1;32m     20\u001b[0m \u001b[38;5;66;03m# this will be slow on CPU only machine\u001b[39;00m\n\u001b[0;32m---> 21\u001b[0m xrt_fine_tuned \u001b[38;5;241m=\u001b[39m \u001b[43mXTransformer\u001b[49m\u001b[38;5;241;43m.\u001b[39;49m\u001b[43mtrain\u001b[49m\u001b[43m(\u001b[49m\n\u001b[1;32m     22\u001b[0m \u001b[43m    \u001b[49m\u001b[43mprob\u001b[49m\u001b[43m,\u001b[49m\n\u001b[1;32m     23\u001b[0m \u001b[43m    \u001b[49m\u001b[43mclustering\u001b[49m\u001b[38;5;241;43m=\u001b[39;49m\u001b[43mcluster_chain\u001b[49m\u001b[43m,\u001b[49m\n\u001b[1;32m     24\u001b[0m \u001b[43m    \u001b[49m\u001b[43mtrain_params\u001b[49m\u001b[38;5;241;43m=\u001b[39;49m\u001b[43mwiki31k_train_params\u001b[49m\u001b[43m,\u001b[49m\n\u001b[1;32m     25\u001b[0m \u001b[43m    \u001b[49m\u001b[43mpred_params\u001b[49m\u001b[38;5;241;43m=\u001b[39;49m\u001b[43mwiki31k_pred_params\u001b[49m\u001b[43m,\u001b[49m\n\u001b[1;32m     26\u001b[0m \u001b[43m)\u001b[49m\n\u001b[1;32m     28\u001b[0m P_xrt_fine_tuned \u001b[38;5;241m=\u001b[39m xrt_fine_tuned\u001b[38;5;241m.\u001b[39mpredict(X_txt_tst, X_feat\u001b[38;5;241m=\u001b[39mX_feat_tst)\n\u001b[1;32m     29\u001b[0m metrics \u001b[38;5;241m=\u001b[39m smat_util\u001b[38;5;241m.\u001b[39mMetrics\u001b[38;5;241m.\u001b[39mgenerate(Y_tst, P_xrt_fine_tuned, topk\u001b[38;5;241m=\u001b[39m\u001b[38;5;241m10\u001b[39m)\n",
      "File \u001b[0;32m/workspace/xr_tran/model.py:330\u001b[0m, in \u001b[0;36mXTransformer.train\u001b[0;34m(cls, prob, clustering, val_prob, train_params, pred_params, **kwargs)\u001b[0m\n\u001b[1;32m    323\u001b[0m LOGGER\u001b[38;5;241m.\u001b[39minfo(\n\u001b[1;32m    324\u001b[0m     \u001b[38;5;124m\"\u001b[39m\u001b[38;5;124mFine-tune Transformers with nr_labels=\u001b[39m\u001b[38;5;132;01m{}\u001b[39;00m\u001b[38;5;124m\"\u001b[39m\u001b[38;5;241m.\u001b[39mformat(\n\u001b[1;32m    325\u001b[0m         [cc\u001b[38;5;241m.\u001b[39mshape[\u001b[38;5;241m0\u001b[39m] \u001b[38;5;28;01mfor\u001b[39;00m cc \u001b[38;5;129;01min\u001b[39;00m clustering[:nr_transformers]]\n\u001b[1;32m    326\u001b[0m     )\n\u001b[1;32m    327\u001b[0m )\n\u001b[1;32m    328\u001b[0m \u001b[38;5;66;03m#print(\"debug model: train_params=\",len(train_params))\u001b[39;00m\n\u001b[1;32m    329\u001b[0m \u001b[38;5;66;03m# construct fields with chain now we know the depth\u001b[39;00m\n\u001b[0;32m--> 330\u001b[0m train_params \u001b[38;5;241m=\u001b[39m \u001b[43mHierarchicalMLModel\u001b[49m\u001b[38;5;241;43m.\u001b[39;49m\u001b[43m_duplicate_fields_with_name_ending_with_chain\u001b[49m\u001b[43m(\u001b[49m\n\u001b[1;32m    331\u001b[0m \u001b[43m    \u001b[49m\u001b[43mtrain_params\u001b[49m\u001b[43m,\u001b[49m\u001b[43m \u001b[49m\u001b[38;5;28;43mcls\u001b[39;49m\u001b[38;5;241;43m.\u001b[39;49m\u001b[43mTrainParams\u001b[49m\u001b[43m,\u001b[49m\u001b[43m \u001b[49m\u001b[43mnr_transformers\u001b[49m\n\u001b[1;32m    332\u001b[0m \u001b[43m\u001b[49m\u001b[43m)\u001b[49m\n\u001b[1;32m    334\u001b[0m LOGGER\u001b[38;5;241m.\u001b[39mdebug(\n\u001b[1;32m    335\u001b[0m     \u001b[38;5;124mf\u001b[39m\u001b[38;5;124m\"\u001b[39m\u001b[38;5;124mXTransformer train_params: \u001b[39m\u001b[38;5;132;01m{\u001b[39;00mjson\u001b[38;5;241m.\u001b[39mdumps(train_params\u001b[38;5;241m.\u001b[39mto_dict(),\u001b[38;5;250m \u001b[39mindent\u001b[38;5;241m=\u001b[39m\u001b[38;5;28;01mTrue\u001b[39;00m)\u001b[38;5;132;01m}\u001b[39;00m\u001b[38;5;124m\"\u001b[39m\n\u001b[1;32m    336\u001b[0m )\n\u001b[1;32m    338\u001b[0m pred_params \u001b[38;5;241m=\u001b[39m HierarchicalMLModel\u001b[38;5;241m.\u001b[39m_duplicate_fields_with_name_ending_with_chain(\n\u001b[1;32m    339\u001b[0m     pred_params, \u001b[38;5;28mcls\u001b[39m\u001b[38;5;241m.\u001b[39mPredParams, nr_transformers\n\u001b[1;32m    340\u001b[0m )\n",
      "File \u001b[0;32m/workspace/pecos/pecos/xmc/base.py:1196\u001b[0m, in \u001b[0;36mHierarchicalMLModel._duplicate_fields_with_name_ending_with_chain\u001b[0;34m(params, cls, depth)\u001b[0m\n\u001b[1;32m   1194\u001b[0m \u001b[38;5;28;01melif\u001b[39;00m \u001b[38;5;28misinstance\u001b[39m(old_val, (\u001b[38;5;28mlist\u001b[39m, \u001b[38;5;28mtuple\u001b[39m)):\n\u001b[1;32m   1195\u001b[0m     \u001b[38;5;28;01mif\u001b[39;00m \u001b[38;5;28mlen\u001b[39m(old_val) \u001b[38;5;241m!=\u001b[39m depth:\n\u001b[0;32m-> 1196\u001b[0m         \u001b[38;5;28;01mraise\u001b[39;00m \u001b[38;5;167;01mValueError\u001b[39;00m(\u001b[38;5;124mf\u001b[39m\u001b[38;5;124m\"\u001b[39m\u001b[38;5;124mlen(params.\u001b[39m\u001b[38;5;132;01m{\u001b[39;00mf\u001b[38;5;241m.\u001b[39mname\u001b[38;5;132;01m}\u001b[39;00m\u001b[38;5;124m)=\u001b[39m\u001b[38;5;132;01m{\u001b[39;00m\u001b[38;5;28mlen\u001b[39m(old_val)\u001b[38;5;132;01m}\u001b[39;00m\u001b[38;5;124m != \u001b[39m\u001b[38;5;132;01m{\u001b[39;00mdepth\u001b[38;5;132;01m}\u001b[39;00m\u001b[38;5;124m\"\u001b[39m)\n\u001b[1;32m   1197\u001b[0m     \u001b[38;5;28;01mif\u001b[39;00m \u001b[38;5;28many\u001b[39m(\u001b[38;5;129;01mnot\u001b[39;00m \u001b[38;5;28misinstance\u001b[39m(cur_param, f\u001b[38;5;241m.\u001b[39mtype) \u001b[38;5;28;01mfor\u001b[39;00m cur_param \u001b[38;5;129;01min\u001b[39;00m old_val):\n\u001b[1;32m   1198\u001b[0m         \u001b[38;5;28;01mraise\u001b[39;00m \u001b[38;5;167;01mValueError\u001b[39;00m(\u001b[38;5;124m\"\u001b[39m\u001b[38;5;124minvalid params!\u001b[39m\u001b[38;5;124m\"\u001b[39m)\n",
      "\u001b[0;31mValueError\u001b[0m: len(params.matcher_params_chain)=3 != 4"
     ]
    }
   ],
   "source": [
    "# define the problem\n",
    "from module import MLProblemWithText\n",
    "prob = MLProblemWithText(X_txt_trn, Y_trn, X_feat=X_feat_trn)\n",
    "from pecos.xmc import Indexer, LabelEmbeddingFactory\n",
    "cluster_chain = Indexer.gen(\n",
    "    LabelEmbeddingFactory.create(Y_trn, X_feat_trn, method=\"pifa\"),\n",
    "    train_params=cur_train_params.preliminary_indexer_params,# 这里是使用preliminary_indexer_params\n",
    "    # preliminary_indexer_params是xrtransformer的训练参数\n",
    ")\n",
    "print(cluster_chain.chain)\n",
    "\n",
    "DO_FINE_TUNE_NOW = True\n",
    "\n",
    "if DO_FINE_TUNE_NOW:\n",
    "    cur_train_params.do_fine_tune = True\n",
    "else:\n",
    "    # skip fine-tuning and use existing fine-tuned encoder\n",
    "    cur_train_params.do_fine_tune = False\n",
    "    cur_train_params.matcher_params_chain[0].init_model_dir = \"./work_dir/xr-transformer-encoder/wiki10-31k/bert/text_encoder\"\n",
    "\n",
    "# this will be slow on CPU only machine\n",
    "xrt_fine_tuned = XTransformer.train(\n",
    "    prob,\n",
    "    clustering=cluster_chain,\n",
    "    train_params=cur_train_params,\n",
    "    pred_params=cur_pred_params,\n",
    ")\n",
    "\n",
    "P_xrt_fine_tuned = xrt_fine_tuned.predict(X_txt_tst, X_feat=X_feat_tst)\n",
    "metrics = smat_util.Metrics.generate(Y_tst, P_xrt_fine_tuned, topk=10)\n",
    "print(\"Evaluation metrics of XR-Transformer\")\n",
    "print(metrics)"
   ]
  },
  {
   "cell_type": "code",
   "execution_count": null,
   "metadata": {},
   "outputs": [],
   "source": [
    "\"\"\"\n",
    "load model \n",
    "\"\"\"\n",
    "model_folder = \"./work_dir/my_xrt\"\n",
    "xrt_fine_tuned.save(model_folder)\n",
    "del xrt_fine_tuned\n",
    "xrt_fine_tuned = XTransformer.load(model_folder, is_predict_only=True)"
   ]
  }
 ],
 "metadata": {
  "kernelspec": {
   "display_name": "dxt",
   "language": "python",
   "name": "python3"
  },
  "language_info": {
   "codemirror_mode": {
    "name": "ipython",
    "version": 3
   },
   "file_extension": ".py",
   "mimetype": "text/x-python",
   "name": "python",
   "nbconvert_exporter": "python",
   "pygments_lexer": "ipython3",
   "version": "3.8.20"
  }
 },
 "nbformat": 4,
 "nbformat_minor": 2
}
